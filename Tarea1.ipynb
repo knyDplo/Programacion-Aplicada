{
  "nbformat": 4,
  "nbformat_minor": 0,
  "metadata": {
    "colab": {
      "provenance": [],
      "collapsed_sections": [],
      "authorship_tag": "ABX9TyNEM0TGB6u8XRtBv3yquAY5",
      "include_colab_link": true
    },
    "kernelspec": {
      "name": "python3",
      "display_name": "Python 3"
    },
    "language_info": {
      "name": "python"
    }
  },
  "cells": [
    {
      "cell_type": "markdown",
      "metadata": {
        "id": "view-in-github",
        "colab_type": "text"
      },
      "source": [
        "<a href=\"https://colab.research.google.com/github/knyDplo/Programacion-Aplicada/blob/main/Tarea1.ipynb\" target=\"_parent\"><img src=\"https://colab.research.google.com/assets/colab-badge.svg\" alt=\"Open In Colab\"/></a>"
      ]
    },
    {
      "cell_type": "code",
      "execution_count": null,
      "metadata": {
        "colab": {
          "base_uri": "https://localhost:8080/"
        },
        "id": "WJ_hyOfxErih",
        "outputId": "c08ef82f-31a8-44ed-dee7-34ea352e0aa1"
      },
      "outputs": [
        {
          "output_type": "stream",
          "name": "stdout",
          "text": [
            "hola mundo\n",
            "ingrese su nombre = keny\n",
            "hola keny\n",
            "ingrese su altura = 160\n",
            "su peso ideal es=  614400.0\n"
          ]
        }
      ],
      "source": [
        "#Keny Leyn Zeta Lis Jimenez\n",
        "#ejercicio Programacion Aplicada 1,2 y 3\n",
        "print(\"hola mundo\")\n",
        "nombre=input(\"ingrese su nombre = \")\n",
        "print(\"hola \"+nombre)\n",
        "altura=float(input(\"ingrese su altura = \"))\n",
        "a=(altura**2)*24\n",
        "print(\"su peso ideal es= \",round(a,2))"
      ]
    },
    {
      "cell_type": "code",
      "source": [
        "#punto4\n",
        "print(\"este programa muestra los numeros de un rango indicado\")\n",
        "nm1=int(input(\"ingrese primer numero del rango\"))\n",
        "nm2=int(input(\"ingrese el segundo numero del rango\"))\n",
        "if(nm1>nm2):\n",
        "  print(\"el primer numero es mayor, no se puede operar\")\n",
        "else:\n",
        "  i=nm1\n",
        "  while(i<=nm2):\n",
        "    print(i)\n",
        "    i=i+1"
      ],
      "metadata": {
        "colab": {
          "base_uri": "https://localhost:8080/"
        },
        "id": "gOrhvXlfIDyJ",
        "outputId": "24d864f7-4a1f-417c-b620-6a0e2bddfa9c"
      },
      "execution_count": null,
      "outputs": [
        {
          "output_type": "stream",
          "name": "stdout",
          "text": [
            "este programa muestra los numeros de un rango indicado\n",
            "ingrese primer numero del rango1\n",
            "ingrese el segundo numero del rango5\n",
            "1\n",
            "2\n",
            "3\n",
            "4\n",
            "5\n"
          ]
        }
      ]
    },
    {
      "cell_type": "code",
      "source": [
        "#punto5\n",
        "from datetime import datetime\n",
        "\n",
        "dActual=(datetime.today().isoweekday())\n",
        "if(dActual==2 or dActual==4):\n",
        "  print(\"hay clase\")\n",
        "else:\n",
        "  print(\"no hay clase\")\n"
      ],
      "metadata": {
        "colab": {
          "base_uri": "https://localhost:8080/"
        },
        "id": "YuAESFNLJLlu",
        "outputId": "68b2abf6-078b-4244-ada0-ff24bd1a22ad"
      },
      "execution_count": 4,
      "outputs": [
        {
          "output_type": "stream",
          "name": "stdout",
          "text": [
            "hay clase\n"
          ]
        }
      ]
    },
    {
      "cell_type": "code",
      "source": [
        "#punto 5\n",
        "clve1=input(\"ingrese una contraseña \")\n",
        "while True:\n",
        "  print(\"-------------------------------------------\")\n",
        "  clve=input(\"ingrese la contraseña correcta o la palabra exit \")\n",
        "  if (clve==clve1 or clve==\"exit\"):\n",
        "    break\n",
        "print(\"programa finalizado\")\n",
        "\n"
      ],
      "metadata": {
        "id": "wx8HPHFuK6t3"
      },
      "execution_count": null,
      "outputs": []
    }
  ]
}