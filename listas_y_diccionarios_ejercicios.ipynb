{
  "nbformat": 4,
  "nbformat_minor": 0,
  "metadata": {
    "colab": {
      "provenance": [],
      "collapsed_sections": [],
      "mount_file_id": "1E5fBR-u5xR4J0svJ_-iUSDGLcEx5C6n0",
      "authorship_tag": "ABX9TyMFT+ew+j9VCPEcPCwEIjWm",
      "include_colab_link": true
    },
    "kernelspec": {
      "name": "python3",
      "display_name": "Python 3"
    },
    "language_info": {
      "name": "python"
    }
  },
  "cells": [
    {
      "cell_type": "markdown",
      "metadata": {
        "id": "view-in-github",
        "colab_type": "text"
      },
      "source": [
        "<a href=\"https://colab.research.google.com/github/knyDplo/Programacion-Aplicada/blob/main/listas_y_diccionarios_ejercicios.ipynb\" target=\"_parent\"><img src=\"https://colab.research.google.com/assets/colab-badge.svg\" alt=\"Open In Colab\"/></a>"
      ]
    },
    {
      "cell_type": "code",
      "execution_count": null,
      "metadata": {
        "colab": {
          "base_uri": "https://localhost:8080/"
        },
        "id": "xIzwl-4eQInX",
        "outputId": "3625d41d-af7f-4e81-a48d-7bc96ef4afb7"
      },
      "outputs": [
        {
          "output_type": "stream",
          "name": "stdout",
          "text": [
            "ingrese la cantidad de materias que cursa = 2\n",
            "ingrese el nombre de la materia una\n",
            "ingrese el nombre de la materia dos\n",
            "['una', 'dos']\n"
          ]
        }
      ],
      "source": [
        "#Keny Leyn Zeta Lis Jimenez & Laura Carolina Gamboa Fajardo\n",
        "#ejercicio tuplas, listas y diccionarios\n",
        "#punto 1\n",
        "\n",
        "mat=int(input(\"ingrese la cantidad de materias que cursa = \"))\n",
        "a=[]\n",
        "i=int(0)\n",
        "while(i<mat):\n",
        "  nom= str(input(\"ingrese el nombre de la materia \"))\n",
        "  a.insert(i, nom)\n",
        "  i=i+1\n",
        "  \n",
        "print(a)\n",
        "\n",
        " "
      ]
    },
    {
      "cell_type": "code",
      "source": [
        "#Keny Leyn Zeta Lis Jimenez & Laura Carolina Gamboa Fajardo\n",
        "#ejercicio tuplas, listas y diccionarios\n",
        "#punto 2\n",
        "\n",
        "mat=int(input(\"ingrese la cantidad de materias que cursa = \"))\n",
        "a=[]\n",
        "i=int(0)\n",
        "while(i<mat):\n",
        "  nom= str(input(\"ingrese el nombre de la materia \"))\n",
        "  a.insert(i, nom)\n",
        "  i=i+1\n",
        "  \n",
        "print(\"que nota espera obtener en cada materia en el primer corte:\")\n",
        "notas=[]\n",
        "\n",
        "for i in range(len(a)):\n",
        "    while True:\n",
        "      notasstring = input(\"nota de \"+ a[i] +\" : \")\n",
        "      notasstring = notasstring.replace(',','.')  \n",
        "      nota=float(notasstring)\n",
        "      if nota>5 or nota<0:\n",
        "        print(\"ingrese una nota valida\")\n",
        "      else:\n",
        "        notas.append(nota)\n",
        "        break\n",
        "\n",
        "print(notas)\n",
        "\n",
        "\n"
      ],
      "metadata": {
        "id": "j7PH4lmB9apG",
        "colab": {
          "base_uri": "https://localhost:8080/"
        },
        "outputId": "00327929-0582-4ab2-fc62-d669036fd956"
      },
      "execution_count": null,
      "outputs": [
        {
          "output_type": "stream",
          "name": "stdout",
          "text": [
            "ingrese la cantidad de materias que cursa = 2\n",
            "ingrese el nombre de la materia una\n",
            "ingrese el nombre de la materia dos\n",
            "que nota espera obtener en cada materia en el primer corte:\n",
            "nota de una : 5\n",
            "nota de dos : 4\n",
            "[5.0, 4.0]\n"
          ]
        }
      ]
    },
    {
      "cell_type": "code",
      "source": [
        "#Keny Leyn Zeta Lis Jimenez & Laura Carolina Gamboa Fajardo\n",
        "#ejercicio tuplas, listas y diccionarios\n",
        "#punto 3\n",
        "\n",
        "a=[]\n",
        "\n",
        "mat=int(input('ingrese la cantidad de materias: '))\n",
        "\n",
        "for i in range(mat):\n",
        "  nom=input('ingrese el nombre de la materia '+ str(i+1)+': ')\n",
        "  a.append(nom)\n",
        "\n",
        "print(a)\n",
        "\n",
        "notas=[]\n",
        "\n",
        "for i in range(len(a)):\n",
        "  while True:\n",
        "    notastring=input(\"ingrese la nota que espera de \"+a[i]+': ')\n",
        "    notastring=notastring.replace(',','.')\n",
        "    nota=float(notastring)\n",
        "    \n",
        "    if nota>5 or nota<0:\n",
        "      print(\"ingrese una nota valida\")\n",
        "    else: \n",
        "        notas.append(nota)\n",
        "        break\n",
        "\n",
        "print(notas)\n",
        "\n",
        "aprobadas=[]\n",
        "reprobadas=[]\n",
        "\n",
        "for i in range(len(a)):\n",
        "  if notas[i]<3:\n",
        "    reprobadas.append(a[i])\n",
        "  else:\n",
        "    aprobadas.append(a[i])\n",
        "\n",
        "print(\"noms aprobadas\",aprobadas)\n",
        "print(\"noms reprobadas\",reprobadas)\n"
      ],
      "metadata": {
        "colab": {
          "base_uri": "https://localhost:8080/"
        },
        "id": "HqmPi8HoQMuG",
        "outputId": "f06cb063-5f62-4bc0-f5cb-095a4171f233"
      },
      "execution_count": null,
      "outputs": [
        {
          "output_type": "stream",
          "name": "stdout",
          "text": [
            "ingrese la cantidad de materias: 3\n",
            "ingrese el nombre de la materia 1: una\n",
            "ingrese el nombre de la materia 2: dos\n",
            "ingrese el nombre de la materia 3: tres\n",
            "['una', 'dos', 'tres']\n",
            "ingrese la nota que espera de una: 4.5\n",
            "ingrese la nota que espera de dos: 1.5\n",
            "ingrese la nota que espera de tres: 3.5\n",
            "[4.5, 1.5, 3.5]\n",
            "noms aprobadas ['una', 'tres']\n",
            "noms reprobadas ['dos']\n"
          ]
        }
      ]
    },
    {
      "cell_type": "code",
      "source": [
        "#Keny Leyn Zeta Lis Jimenez & Laura Carolina Gamboa Fajardo\n",
        "#ejercicio tuplas, listas y diccionarios\n",
        "#punto 4\n",
        "\n",
        "frase1=str(input(\"ingrese una frase para determinar si es un palindromo\"))\n",
        "frase1=frase1.lower()\n",
        "frase1=frase1.replace(' ','')\n",
        "frase1list=list(frase1)\n",
        "frase2list=frase1list.copy()\n",
        "frase2list.reverse()\n",
        "print(frase1list)\n",
        "print(frase2list)\n",
        "\n",
        "if frase1list == frase2list:\n",
        "  print(\"es palindromo\")\n",
        "else:\n",
        "  print(\"no es palindromo\")"
      ],
      "metadata": {
        "colab": {
          "base_uri": "https://localhost:8080/"
        },
        "id": "EOWWYJrocrth",
        "outputId": "724d6c89-ced7-4c6f-9834-f407f6b96158"
      },
      "execution_count": null,
      "outputs": [
        {
          "output_type": "stream",
          "name": "stdout",
          "text": [
            "ingrese una frase para determinar si es un palindromoanita lava la tina\n",
            "['a', 'n', 'i', 't', 'a', 'l', 'a', 'v', 'a', 'l', 'a', 't', 'i', 'n', 'a']\n",
            "['a', 'n', 'i', 't', 'a', 'l', 'a', 'v', 'a', 'l', 'a', 't', 'i', 'n', 'a']\n",
            "es palindromo\n"
          ]
        }
      ]
    },
    {
      "cell_type": "code",
      "source": [
        "#Keny Leyn Zeta Lis Jimenez & Laura Carolina Gamboa Fajardo\n",
        "#ejercicio tuplas, listas y diccionarios\n",
        "#punto 5\n",
        "\n",
        "import numpy as np\n",
        "\n",
        "v1str = input(\"ingrese los valores del vector uno separados por comas \")\n",
        "v1 = v1str.split(',')\n",
        "v1 = [float(element) for element in v1]\n",
        "print(v1)\n",
        "\n",
        "v2str = input(\"ingrese los valores del vector dos separados por comas \")\n",
        "v2 = v2str.split(',')\n",
        "v2 = [float(element) for element in v2]\n",
        "print(v2)\n",
        "\n",
        "res=np.dot(v1,v2)\n",
        "print(res)\n"
      ],
      "metadata": {
        "id": "H4nbGZDfQHyk"
      },
      "execution_count": null,
      "outputs": []
    }
  ]
}