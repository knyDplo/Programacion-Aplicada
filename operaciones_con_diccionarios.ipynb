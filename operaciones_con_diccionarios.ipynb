{
  "nbformat": 4,
  "nbformat_minor": 0,
  "metadata": {
    "colab": {
      "provenance": [],
      "authorship_tag": "ABX9TyMj08b8HCgb3KsfLiCHRkQZ",
      "include_colab_link": true
    },
    "kernelspec": {
      "name": "python3",
      "display_name": "Python 3"
    },
    "language_info": {
      "name": "python"
    }
  },
  "cells": [
    {
      "cell_type": "markdown",
      "metadata": {
        "id": "view-in-github",
        "colab_type": "text"
      },
      "source": [
        "<a href=\"https://colab.research.google.com/github/knyDplo/Programacion-Aplicada/blob/main/operaciones_con_diccionarios.ipynb\" target=\"_parent\"><img src=\"https://colab.research.google.com/assets/colab-badge.svg\" alt=\"Open In Colab\"/></a>"
      ]
    },
    {
      "cell_type": "code",
      "execution_count": null,
      "metadata": {
        "colab": {
          "base_uri": "https://localhost:8080/"
        },
        "id": "BoiW70q2TOzv",
        "outputId": "d6f40211-01a9-4656-82a3-a4c2f507b16d"
      },
      "outputs": [
        {
          "output_type": "stream",
          "name": "stdout",
          "text": [
            "ingrese una divisa= dollar\n",
            "$\n"
          ]
        }
      ],
      "source": [
        "#Keny Leyn Zeta Lis Jimenez & Laura Carolina Gamboa Fajardo\n",
        "#ejercicios OPERACIONES CON DICCIONARIOS\n",
        "#punto 1\n",
        "\n",
        "divisas = {\"Euro\":\"€\", \"Dollar\":\"$\", \"Yen\":\"¥\"}\n",
        "entrada=str(input(\"ingrese una divisa= \"))\n",
        "print(divisas.get(entrada.title() , \"ingrese otra divisa\"))"
      ]
    },
    {
      "cell_type": "code",
      "source": [
        "#Keny Leyn Zeta Lis Jimenez & Laura Carolina Gamboa Fajardo\n",
        "#ejercicios OPERACIONES CON DICCIONARIOS\n",
        "#punto 2\n",
        "nom = str(input(\"ingrese su nombre\"))\n",
        "edad = str(input(\"ingrese su edad\"))\n",
        "dire = str(input(\"ingrese su direccion\"))\n",
        "tel = input(\"ingrese su numero de celular\")\n",
        "user = {\"nom\": nom, \"edad\": edad, \"dire\": dire, \"tel\": tel}\n",
        "print(\"su nombre es\",user[\"nom\"], \" ,su edad es \", user['edad'], \"años, su dirccion es \", user['dire'],\" y su contacto es \", user['tel'])"
      ],
      "metadata": {
        "colab": {
          "base_uri": "https://localhost:8080/"
        },
        "id": "2Fr1DqXVWtDq",
        "outputId": "115cc364-baad-4db7-9768-ab2ef9c95b64"
      },
      "execution_count": null,
      "outputs": [
        {
          "output_type": "stream",
          "name": "stdout",
          "text": [
            "ingrese su nombrekeny\n",
            "ingrese su edad19\n",
            "ingrese su direccionuno de mayo\n",
            "ingrese su numero de celular3143721427\n",
            "su nombre es keny  ,su edad es  19 años, su dirccion es  uno de mayo  y su contacto es  3143721427\n"
          ]
        }
      ]
    },
    {
      "cell_type": "code",
      "source": [
        "#Keny Leyn Zeta Lis Jimenez & Laura Carolina Gamboa Fajardo\n",
        "#ejercicios OPERACIONES CON DICCIONARIOS\n",
        "#punto 3\n",
        "\n",
        "dirFrutas= {\"Platano\":1.35, \"Manzana\":0.80, \"Pera\":0.85, \"Naranja\":0.70}\n",
        "pedido=str(input(\"ingrese una fruta= \"))\n",
        "peso=int(input(\"que cantidad de kilos= \"))\n",
        "if pedido.title() in dirFrutas:\n",
        "  venta = dirFrutas[pedido.title()]*peso\n",
        "  print(\"el total a pagar por esta cantidad es de\", venta,\" pesos\")\n",
        "else:\n",
        "  print(\"fruta no disponible\")"
      ],
      "metadata": {
        "colab": {
          "base_uri": "https://localhost:8080/"
        },
        "id": "0d2pEBVZeKuK",
        "outputId": "f96787bd-41b9-4cb2-f39a-07930e620a15"
      },
      "execution_count": null,
      "outputs": [
        {
          "output_type": "stream",
          "name": "stdout",
          "text": [
            "ingrese una fruta= platano\n",
            "que cantidad de kilos= 4\n",
            "el total a pagar por esta cantidad es de 5.4  pesos\n"
          ]
        }
      ]
    },
    {
      "cell_type": "code",
      "source": [
        "#Keny Leyn Zeta Lis Jimenez & Laura Carolina Gamboa Fajardo\n",
        "#ejercicios OPERACIONES CON DICCIONARIOS\n",
        "#punto 4\n",
        "\n",
        "compras = {}\n",
        "while True:\n",
        "  articulo=str(input(\"ingrese el nombre del articulo: \"))\n",
        "  valor=float(input(\"ingrese el precio de este articulo: \"))\n",
        "  compras[articulo]= valor\n",
        "  op=str(input(\"si desa agrgar otro articulo pulse la letra s, de lo contrario n : \" ))\n",
        "  if op ==\"n\":\n",
        "   break\n",
        "\n",
        "\n",
        "print(\"su lista de compras es = \", compras)\n",
        "cont=0\n",
        "\n",
        "for a, p in compras.items():      #items() = convierte los key y value en una lista ejm [(\"uno\",1), (\"dos\",2)]\n",
        "  print(a, \" = \", p)\n",
        "  cont+=valor\n",
        "\n",
        "\n",
        "print(\"valor total a pagar= \", cont)\n"
      ],
      "metadata": {
        "id": "x2OIWK06khUs",
        "outputId": "1fd57c3e-0916-44d0-c52e-1c46f8523d67",
        "colab": {
          "base_uri": "https://localhost:8080/"
        }
      },
      "execution_count": 14,
      "outputs": [
        {
          "output_type": "stream",
          "name": "stdout",
          "text": [
            "ingrese el nombre del articulo: uno \n",
            "ingrese el precio de este articulo: 1\n",
            "si desa agrgar otro articulo pulse la letra s, de lo contrario n : s\n",
            "ingrese el nombre del articulo: dos\n",
            "ingrese el precio de este articulo: 2\n",
            "si desa agrgar otro articulo pulse la letra s, de lo contrario n : s\n",
            "ingrese el nombre del articulo: tres\n",
            "ingrese el precio de este articulo: 3\n",
            "si desa agrgar otro articulo pulse la letra s, de lo contrario n : n\n",
            "su lista de compras es =  {'uno ': 1.0, 'dos': 2.0, 'tres': 3.0}\n",
            "uno   =  1.0\n",
            "dos  =  2.0\n",
            "tres  =  3.0\n",
            "valor total a pagar=  9.0\n"
          ]
        }
      ]
    },
    {
      "cell_type": "code",
      "source": [
        "#Keny Leyn Zeta Lis Jimenez & Laura Carolina Gamboa Fajardo\n",
        "#ejercicios OPERACIONES CON DICCIONARIOS\n",
        "#punto 5\n",
        "\n",
        "\n"
      ],
      "metadata": {
        "id": "UsFR8KsUnobk"
      },
      "execution_count": null,
      "outputs": []
    }
  ]
}